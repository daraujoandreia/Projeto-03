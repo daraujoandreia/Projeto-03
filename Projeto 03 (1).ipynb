{
 "cells": [
  {
   "cell_type": "code",
   "execution_count": 2,
   "metadata": {},
   "outputs": [],
   "source": [
    "import pandas as pd\n",
    "import numpy as np\n",
    "import pylab as pl"
   ]
  },
  {
   "cell_type": "markdown",
   "metadata": {},
   "source": [
    "### Análise Gráfica"
   ]
  },
  {
   "cell_type": "markdown",
   "metadata": {},
   "source": [
    "#### Diferentes compostos\n",
    "\n",
    "Primeiramente, vamos analisar a degradação de diferentes compostos impactados por életrons a 70eV.\n",
    "Os compostos analisado foram o Tolueno, o Benzeno, o Cloro-benzeno e a Piridiana. A parte do espectro aqui analisada corresponde aos picos 24 a 30."
   ]
  },
  {
   "cell_type": "code",
   "execution_count": 45,
   "metadata": {},
   "outputs": [],
   "source": [
    "#Criando o data frame com os rendimentos de cada íon para cada composto"
   ]
  },
  {
   "cell_type": "code",
   "execution_count": 46,
   "metadata": {},
   "outputs": [
    {
     "data": {
      "text/html": [
       "<div>\n",
       "<style scoped>\n",
       "    .dataframe tbody tr th:only-of-type {\n",
       "        vertical-align: middle;\n",
       "    }\n",
       "\n",
       "    .dataframe tbody tr th {\n",
       "        vertical-align: top;\n",
       "    }\n",
       "\n",
       "    .dataframe thead th {\n",
       "        text-align: right;\n",
       "    }\n",
       "</style>\n",
       "<table border=\"1\" class=\"dataframe\">\n",
       "  <thead>\n",
       "    <tr style=\"text-align: right;\">\n",
       "      <th></th>\n",
       "      <th>Picos</th>\n",
       "      <th>Tolueno</th>\n",
       "      <th>Benzeno</th>\n",
       "      <th>Cloro-benzeno</th>\n",
       "      <th>Piridina</th>\n",
       "    </tr>\n",
       "  </thead>\n",
       "  <tbody>\n",
       "    <tr>\n",
       "      <th>0</th>\n",
       "      <td>24.0</td>\n",
       "      <td>0.175588</td>\n",
       "      <td>0.235752</td>\n",
       "      <td>0.086298</td>\n",
       "      <td>0.468913</td>\n",
       "    </tr>\n",
       "    <tr>\n",
       "      <th>1</th>\n",
       "      <td>25.0</td>\n",
       "      <td>0.133639</td>\n",
       "      <td>1.715046</td>\n",
       "      <td>0.987205</td>\n",
       "      <td>2.791979</td>\n",
       "    </tr>\n",
       "    <tr>\n",
       "      <th>2</th>\n",
       "      <td>26.0</td>\n",
       "      <td>2.592120</td>\n",
       "      <td>22.736406</td>\n",
       "      <td>4.399932</td>\n",
       "      <td>32.362331</td>\n",
       "    </tr>\n",
       "    <tr>\n",
       "      <th>3</th>\n",
       "      <td>27.0</td>\n",
       "      <td>13.679771</td>\n",
       "      <td>26.985041</td>\n",
       "      <td>8.388334</td>\n",
       "      <td>13.054936</td>\n",
       "    </tr>\n",
       "    <tr>\n",
       "      <th>4</th>\n",
       "      <td>28.0</td>\n",
       "      <td>181.234976</td>\n",
       "      <td>19.919633</td>\n",
       "      <td>16.170469</td>\n",
       "      <td>26.872242</td>\n",
       "    </tr>\n",
       "    <tr>\n",
       "      <th>5</th>\n",
       "      <td>29.0</td>\n",
       "      <td>1.555422</td>\n",
       "      <td>0.297064</td>\n",
       "      <td>0.753144</td>\n",
       "      <td>0.996668</td>\n",
       "    </tr>\n",
       "    <tr>\n",
       "      <th>6</th>\n",
       "      <td>30.0</td>\n",
       "      <td>0.038609</td>\n",
       "      <td>0.122164</td>\n",
       "      <td>0.045020</td>\n",
       "      <td>0.130281</td>\n",
       "    </tr>\n",
       "  </tbody>\n",
       "</table>\n",
       "</div>"
      ],
      "text/plain": [
       "   Picos     Tolueno    Benzeno  Cloro-benzeno   Piridina\n",
       "0   24.0    0.175588   0.235752       0.086298   0.468913\n",
       "1   25.0    0.133639   1.715046       0.987205   2.791979\n",
       "2   26.0    2.592120  22.736406       4.399932  32.362331\n",
       "3   27.0   13.679771  26.985041       8.388334  13.054936\n",
       "4   28.0  181.234976  19.919633      16.170469  26.872242\n",
       "5   29.0    1.555422   0.297064       0.753144   0.996668\n",
       "6   30.0    0.038609   0.122164       0.045020   0.130281"
      ]
     },
     "execution_count": 46,
     "metadata": {},
     "output_type": "execute_result"
    }
   ],
   "source": [
    "a = pd.DataFrame([[24,25,26,27,28,29,30],[0.1755877753,0.1336391874,2.592119755,13.67977137,181.2349756,1.555421854,0.03860877884],[0.2357515225,1.715045813,22.73640564,26.98504132,19.91963305,0.2970638009,0.1221638534],[0.08629803012,0.9872047672,4.399931944,8.388333876,16.17046894,0.7531437087,0.04502039295],[0.4689130147,2.791979361,32.36233052,13.05493596,26.87224203,0.9966677801,0.1302809346]],index = ['Picos','Tolueno','Benzeno','Cloro-benzeno','Piridina'])\n",
    "compostos = a.T\n",
    "compostos"
   ]
  },
  {
   "cell_type": "code",
   "execution_count": 48,
   "metadata": {},
   "outputs": [],
   "source": [
    "#Plotando os gráficos de barras dos rendimentos para cada composto"
   ]
  },
  {
   "cell_type": "code",
   "execution_count": 8,
   "metadata": {},
   "outputs": [
    {
     "data": {
      "image/png": "[encoded data removed]",
      "text/plain": [
       "<Figure size 1440x288 with 4 Axes>"
      ]
     },
     "metadata": {
      "needs_background": "light"
     },
     "output_type": "display_data"
    }
   ],
   "source": [
    "fig, ax = pl.subplots(nrows = 1, ncols=4, figsize = (20,4))\n",
    "compostos.plot.bar(x=\"Picos\", y=['Tolueno'],color= 'purple', ax=ax[0])\n",
    "compostos.plot.bar(x=\"Picos\", y=['Benzeno'],color= 'g', ax=ax[1])\n",
    "compostos.plot.bar(x=\"Picos\", y=['Cloro-benzeno'],color = 'y',ax=ax[2])\n",
    "compostos.plot.bar(x=\"Picos\", y=['Piridina'],color='orange',ax=ax[3])\n",
    "\n",
    "pl.show()"
   ]
  },
  {
   "cell_type": "markdown",
   "metadata": {},
   "source": [
    "A partir da análise gráfica, podemos extrair algumas informações a respeito da degradação desses composto nessa mesma energia:\n",
    "\n",
    "O Tolueno apresenta um pico de intensidade bem destacado para o pico 28, possuindo um rendimento muito superior para este íon em relação aos demais compostos\n",
    "\n",
    "O demais compostos aprensetam seus maiores picos de intensidade entre os picos 26, 27 e 28, apresentado diferentes distribuições. \n",
    "\n",
    "Assim como o Tolueno, o Cloro-benzeno apresenta o aumento da intensidade conforme aumenta a razão massa/carga (do pico 25 ao pico 28) e logo após uma queda nessa mesma proporção (picos 29 e 30)."
   ]
  },
  {
   "cell_type": "markdown",
   "metadata": {},
   "source": [
    "#### Diferentes energias\n",
    "\n",
    "Agora, faremos a análise gráfica dos rendimentos do Tolueno impactado por elétrons em diferentes energias. Foram analisados os espectro para o impacto por elétrons a 70eV, 700eV, 1750eV."
   ]
  },
  {
   "cell_type": "code",
   "execution_count": 49,
   "metadata": {},
   "outputs": [],
   "source": [
    "#Criando o data frame com os rendimentos de cada íon para cada energia"
   ]
  },
  {
   "cell_type": "code",
   "execution_count": 50,
   "metadata": {},
   "outputs": [
    {
     "data": {
      "text/html": [
       "<div>\n",
       "<style scoped>\n",
       "    .dataframe tbody tr th:only-of-type {\n",
       "        vertical-align: middle;\n",
       "    }\n",
       "\n",
       "    .dataframe tbody tr th {\n",
       "        vertical-align: top;\n",
       "    }\n",
       "\n",
       "    .dataframe thead th {\n",
       "        text-align: right;\n",
       "    }\n",
       "</style>\n",
       "<table border=\"1\" class=\"dataframe\">\n",
       "  <thead>\n",
       "    <tr style=\"text-align: right;\">\n",
       "      <th></th>\n",
       "      <th>Picos</th>\n",
       "      <th>70eV</th>\n",
       "      <th>700eV</th>\n",
       "      <th>1750eV</th>\n",
       "    </tr>\n",
       "  </thead>\n",
       "  <tbody>\n",
       "    <tr>\n",
       "      <th>0</th>\n",
       "      <td>12.0</td>\n",
       "      <td>0.053923</td>\n",
       "      <td>0.215634</td>\n",
       "      <td>0.085316</td>\n",
       "    </tr>\n",
       "    <tr>\n",
       "      <th>1</th>\n",
       "      <td>13.0</td>\n",
       "      <td>0.040243</td>\n",
       "      <td>0.043406</td>\n",
       "      <td>0.035976</td>\n",
       "    </tr>\n",
       "    <tr>\n",
       "      <th>2</th>\n",
       "      <td>14.0</td>\n",
       "      <td>3.624072</td>\n",
       "      <td>1.773893</td>\n",
       "      <td>0.392145</td>\n",
       "    </tr>\n",
       "    <tr>\n",
       "      <th>3</th>\n",
       "      <td>15.0</td>\n",
       "      <td>0.851527</td>\n",
       "      <td>0.644177</td>\n",
       "      <td>0.370869</td>\n",
       "    </tr>\n",
       "    <tr>\n",
       "      <th>4</th>\n",
       "      <td>16.0</td>\n",
       "      <td>0.932861</td>\n",
       "      <td>0.461351</td>\n",
       "      <td>0.365385</td>\n",
       "    </tr>\n",
       "    <tr>\n",
       "      <th>5</th>\n",
       "      <td>24.0</td>\n",
       "      <td>0.175588</td>\n",
       "      <td>0.171291</td>\n",
       "      <td>0.204446</td>\n",
       "    </tr>\n",
       "    <tr>\n",
       "      <th>6</th>\n",
       "      <td>25.0</td>\n",
       "      <td>0.133639</td>\n",
       "      <td>0.127711</td>\n",
       "      <td>0.133484</td>\n",
       "    </tr>\n",
       "    <tr>\n",
       "      <th>7</th>\n",
       "      <td>26.0</td>\n",
       "      <td>2.592120</td>\n",
       "      <td>1.939945</td>\n",
       "      <td>0.814713</td>\n",
       "    </tr>\n",
       "    <tr>\n",
       "      <th>8</th>\n",
       "      <td>27.0</td>\n",
       "      <td>13.679771</td>\n",
       "      <td>9.925588</td>\n",
       "      <td>6.621159</td>\n",
       "    </tr>\n",
       "    <tr>\n",
       "      <th>9</th>\n",
       "      <td>28.0</td>\n",
       "      <td>181.234976</td>\n",
       "      <td>91.455326</td>\n",
       "      <td>20.704080</td>\n",
       "    </tr>\n",
       "    <tr>\n",
       "      <th>10</th>\n",
       "      <td>29.0</td>\n",
       "      <td>1.555422</td>\n",
       "      <td>0.665502</td>\n",
       "      <td>0.306789</td>\n",
       "    </tr>\n",
       "    <tr>\n",
       "      <th>11</th>\n",
       "      <td>30.0</td>\n",
       "      <td>0.038609</td>\n",
       "      <td>0.080405</td>\n",
       "      <td>0.106119</td>\n",
       "    </tr>\n",
       "    <tr>\n",
       "      <th>12</th>\n",
       "      <td>73.0</td>\n",
       "      <td>1.523583</td>\n",
       "      <td>0.318483</td>\n",
       "      <td>0.260839</td>\n",
       "    </tr>\n",
       "    <tr>\n",
       "      <th>13</th>\n",
       "      <td>74.0</td>\n",
       "      <td>7.706951</td>\n",
       "      <td>4.156176</td>\n",
       "      <td>3.111857</td>\n",
       "    </tr>\n",
       "    <tr>\n",
       "      <th>14</th>\n",
       "      <td>75.0</td>\n",
       "      <td>4.827954</td>\n",
       "      <td>2.828729</td>\n",
       "      <td>2.463779</td>\n",
       "    </tr>\n",
       "    <tr>\n",
       "      <th>15</th>\n",
       "      <td>90.0</td>\n",
       "      <td>21.616205</td>\n",
       "      <td>24.288302</td>\n",
       "      <td>18.533565</td>\n",
       "    </tr>\n",
       "    <tr>\n",
       "      <th>16</th>\n",
       "      <td>91.0</td>\n",
       "      <td>1168.319328</td>\n",
       "      <td>1718.333601</td>\n",
       "      <td>1329.160502</td>\n",
       "    </tr>\n",
       "    <tr>\n",
       "      <th>17</th>\n",
       "      <td>92.0</td>\n",
       "      <td>1080.082489</td>\n",
       "      <td>1431.068873</td>\n",
       "      <td>1051.678010</td>\n",
       "    </tr>\n",
       "    <tr>\n",
       "      <th>18</th>\n",
       "      <td>93.0</td>\n",
       "      <td>102.660003</td>\n",
       "      <td>144.075690</td>\n",
       "      <td>108.904597</td>\n",
       "    </tr>\n",
       "    <tr>\n",
       "      <th>19</th>\n",
       "      <td>94.0</td>\n",
       "      <td>12.014232</td>\n",
       "      <td>1.644952</td>\n",
       "      <td>2.419128</td>\n",
       "    </tr>\n",
       "  </tbody>\n",
       "</table>\n",
       "</div>"
      ],
      "text/plain": [
       "    Picos         70eV        700eV       1750eV\n",
       "0    12.0     0.053923     0.215634     0.085316\n",
       "1    13.0     0.040243     0.043406     0.035976\n",
       "2    14.0     3.624072     1.773893     0.392145\n",
       "3    15.0     0.851527     0.644177     0.370869\n",
       "4    16.0     0.932861     0.461351     0.365385\n",
       "5    24.0     0.175588     0.171291     0.204446\n",
       "6    25.0     0.133639     0.127711     0.133484\n",
       "7    26.0     2.592120     1.939945     0.814713\n",
       "8    27.0    13.679771     9.925588     6.621159\n",
       "9    28.0   181.234976    91.455326    20.704080\n",
       "10   29.0     1.555422     0.665502     0.306789\n",
       "11   30.0     0.038609     0.080405     0.106119\n",
       "12   73.0     1.523583     0.318483     0.260839\n",
       "13   74.0     7.706951     4.156176     3.111857\n",
       "14   75.0     4.827954     2.828729     2.463779\n",
       "15   90.0    21.616205    24.288302    18.533565\n",
       "16   91.0  1168.319328  1718.333601  1329.160502\n",
       "17   92.0  1080.082489  1431.068873  1051.678010\n",
       "18   93.0   102.660003   144.075690   108.904597\n",
       "19   94.0    12.014232     1.644952     2.419128"
      ]
     },
     "execution_count": 50,
     "metadata": {},
     "output_type": "execute_result"
    }
   ],
   "source": [
    "b = pd.DataFrame([[12,13,14,15,16,24,25,26,27,28,29,30,73,74,75,90,91,92,93,94],[0.05392335824,0.040242824,3.624071984,0.8515266236,0.932861487,0.1755877753,0.1336391874,2.592119755,13.67977137,181.2349756,1.555421854,0.03860877884,1.523583246,7.706950904,4.827953873,21.61620528,1168.319328,1080.082489,102.660003,12.01423221],[0.2156338102,0.04340611926,1.773892632,0.6441771152,0.4613508878,0.171291035,0.1277106982,1.939945,9.925588411,91.45532627,0.6655020874,0.08040510199,0.3184831437,4.15617575,2.828728824,24.28830217,1718.333601,1431.068873,144.07569,1.644951825],[0.08531620204,0.03597603819,0.3921448004,0.3708685963,0.3653849705,0.20444554,0.1334844684,0.814713081,6.621159378,20.7040799,0.306789325,0.1061191599,0.2608390856,3.111857303,2.463779037,18.53356453,1329.160502,1051.67801,108.9045969,2.419127703]],index = ['Picos','70eV','700eV','1750eV'])\n",
    "energias = b.T\n",
    "energias"
   ]
  },
  {
   "cell_type": "code",
   "execution_count": 51,
   "metadata": {},
   "outputs": [],
   "source": [
    "#Plotando os gráficos de barras dos rendimentos para cada energia"
   ]
  },
  {
   "cell_type": "code",
   "execution_count": 52,
   "metadata": {},
   "outputs": [
    {
     "data": {
      "image/png": "[encoded data removed]",
      "text/plain": [
       "<Figure size 1440x288 with 3 Axes>"
      ]
     },
     "metadata": {
      "needs_background": "light"
     },
     "output_type": "display_data"
    }
   ],
   "source": [
    "fig, ax = pl.subplots(nrows = 1, ncols=3, figsize = (20,4))\n",
    "energias.plot.bar(x=\"Picos\", y=['70eV'],color= 'purple', ax=ax[0])\n",
    "energias.plot.bar(x=\"Picos\", y=['700eV'],color= 'y', ax=ax[1])\n",
    "energias.plot.bar(x=\"Picos\", y=['1750eV'],color ='g',ax=ax[2])\n",
    "pl.show()"
   ]
  },
  {
   "cell_type": "markdown",
   "metadata": {},
   "source": [
    "Podemos observar uma diminuição na intensidade dos picos do conjunto de íons CHn+(14 ao 16) e do pico 28(C2H4+) conforme aumentamos a energia dos elétrons.\n",
    "\n",
    "Os picos 91(C7H7+) e 92(C7H8+) apresentam um aumento na intensidade para a elétrons a 700eV em comparação às outras energias."
   ]
  },
  {
   "cell_type": "markdown",
   "metadata": {},
   "source": [
    "### Análise quantitativa"
   ]
  },
  {
   "cell_type": "markdown",
   "metadata": {},
   "source": [
    "Fazendo agora uma análise quantitativa, podemos destacar para quais compostos e nergias cada pico apresenta seus valores máximos e mínimos."
   ]
  },
  {
   "cell_type": "markdown",
   "metadata": {},
   "source": [
    "#### Diferentes energias"
   ]
  },
  {
   "cell_type": "code",
   "execution_count": 10,
   "metadata": {},
   "outputs": [],
   "source": [
    "energias2 = energias.set_index('Picos')"
   ]
  },
  {
   "cell_type": "code",
   "execution_count": 11,
   "metadata": {},
   "outputs": [
    {
     "name": "stdout",
     "output_type": "stream",
     "text": [
      "Picos\n",
      "12.0     700eV\n",
      "13.0     700eV\n",
      "14.0      70eV\n",
      "15.0      70eV\n",
      "16.0      70eV\n",
      "24.0    1750eV\n",
      "25.0      70eV\n",
      "26.0      70eV\n",
      "27.0      70eV\n",
      "28.0      70eV\n",
      "29.0      70eV\n",
      "30.0    1750eV\n",
      "73.0      70eV\n",
      "74.0      70eV\n",
      "75.0      70eV\n",
      "90.0     700eV\n",
      "91.0     700eV\n",
      "92.0     700eV\n",
      "93.0     700eV\n",
      "94.0      70eV\n",
      "dtype: object\n"
     ]
    }
   ],
   "source": [
    "maximos= energias2.idxmax(axis = 1)\n",
    "print (maximos)"
   ]
  },
  {
   "cell_type": "code",
   "execution_count": 12,
   "metadata": {},
   "outputs": [
    {
     "name": "stdout",
     "output_type": "stream",
     "text": [
      "Picos\n",
      "12.0      70eV\n",
      "13.0    1750eV\n",
      "14.0    1750eV\n",
      "15.0    1750eV\n",
      "16.0    1750eV\n",
      "24.0     700eV\n",
      "25.0     700eV\n",
      "26.0    1750eV\n",
      "27.0    1750eV\n",
      "28.0    1750eV\n",
      "29.0    1750eV\n",
      "30.0      70eV\n",
      "73.0    1750eV\n",
      "74.0    1750eV\n",
      "75.0    1750eV\n",
      "90.0    1750eV\n",
      "91.0      70eV\n",
      "92.0    1750eV\n",
      "93.0      70eV\n",
      "94.0     700eV\n",
      "dtype: object\n"
     ]
    }
   ],
   "source": [
    "minimos = energias2.idxmin(axis = 1)\n",
    "print (minimos)"
   ]
  },
  {
   "cell_type": "markdown",
   "metadata": {},
   "source": [
    "Observamos que, para os íons em questão, a maioria possui seus máximos de intensidade para elétrons a 70eV e seus mínimos de intesidade para elétrons a 1750eV. Vemos também que alguns conjuntos de íons possuem seus máximos ou mínimos em determinada energia.  \n",
    "\n"
   ]
  },
  {
   "cell_type": "markdown",
   "metadata": {},
   "source": [
    "#### Diferentes compostos"
   ]
  },
  {
   "cell_type": "code",
   "execution_count": 53,
   "metadata": {},
   "outputs": [],
   "source": [
    "compostos2= compostos.set_index('Picos')"
   ]
  },
  {
   "cell_type": "code",
   "execution_count": 54,
   "metadata": {},
   "outputs": [
    {
     "name": "stdout",
     "output_type": "stream",
     "text": [
      "Picos\n",
      "24.0    Piridina\n",
      "25.0    Piridina\n",
      "26.0    Piridina\n",
      "27.0     Benzeno\n",
      "28.0     Tolueno\n",
      "29.0     Tolueno\n",
      "30.0    Piridina\n",
      "dtype: object\n"
     ]
    }
   ],
   "source": [
    "maximos2= compostos2.idxmax(axis = 1)\n",
    "print (maximos2)"
   ]
  },
  {
   "cell_type": "code",
   "execution_count": 55,
   "metadata": {},
   "outputs": [
    {
     "name": "stdout",
     "output_type": "stream",
     "text": [
      "Picos\n",
      "24.0    Cloro-benzeno\n",
      "25.0          Tolueno\n",
      "26.0          Tolueno\n",
      "27.0    Cloro-benzeno\n",
      "28.0    Cloro-benzeno\n",
      "29.0          Benzeno\n",
      "30.0          Tolueno\n",
      "dtype: object\n"
     ]
    }
   ],
   "source": [
    "minimos2 =compostos2.idxmin(axis = 1)\n",
    "print (minimos2)"
   ]
  },
  {
   "cell_type": "markdown",
   "metadata": {},
   "source": [
    "Observamos que o Cloro-benzeno possui os menores rendimentos para estes picos. \n",
    "A Piridina apresenta o maior rendimento para quatro dos sete picos. \n",
    "Como visto graficamente, o Tolueno apresenta o maior rendimento para o pico 28."
   ]
  },
  {
   "cell_type": "markdown",
   "metadata": {},
   "source": [
    "### Comparação - diferentes compostos\n",
    "\n",
    "Uma das análises que pretendemos fazer é a comparação entre a degradação do Tolueno com a degradação de outros compostos. Como ainda não foram identificados os possíveis íons formados em cada picos para os demais compostos, vamso fazer uma primeira comparação apenas entres os valores dos rendimentos obtidos. Utilizamos a distância euclidiana para determinar qual composto mais se aproxima do Tolueno."
   ]
  },
  {
   "cell_type": "code",
   "execution_count": 57,
   "metadata": {},
   "outputs": [
    {
     "data": {
      "text/html": [
       "<div>\n",
       "<style scoped>\n",
       "    .dataframe tbody tr th:only-of-type {\n",
       "        vertical-align: middle;\n",
       "    }\n",
       "\n",
       "    .dataframe tbody tr th {\n",
       "        vertical-align: top;\n",
       "    }\n",
       "\n",
       "    .dataframe thead th {\n",
       "        text-align: right;\n",
       "    }\n",
       "</style>\n",
       "<table border=\"1\" class=\"dataframe\">\n",
       "  <thead>\n",
       "    <tr style=\"text-align: right;\">\n",
       "      <th></th>\n",
       "      <th>Composto</th>\n",
       "      <th>24</th>\n",
       "      <th>25</th>\n",
       "      <th>26</th>\n",
       "      <th>27</th>\n",
       "      <th>28</th>\n",
       "      <th>29</th>\n",
       "      <th>30</th>\n",
       "    </tr>\n",
       "  </thead>\n",
       "  <tbody>\n",
       "    <tr>\n",
       "      <th>0</th>\n",
       "      <td>Tolueno</td>\n",
       "      <td>0.175588</td>\n",
       "      <td>0.133639</td>\n",
       "      <td>2.592120</td>\n",
       "      <td>13.679771</td>\n",
       "      <td>181.234976</td>\n",
       "      <td>1.555422</td>\n",
       "      <td>0.038609</td>\n",
       "    </tr>\n",
       "    <tr>\n",
       "      <th>1</th>\n",
       "      <td>Benzeno</td>\n",
       "      <td>0.235752</td>\n",
       "      <td>1.715046</td>\n",
       "      <td>22.736406</td>\n",
       "      <td>26.985041</td>\n",
       "      <td>19.919633</td>\n",
       "      <td>0.297064</td>\n",
       "      <td>0.122164</td>\n",
       "    </tr>\n",
       "    <tr>\n",
       "      <th>2</th>\n",
       "      <td>Cloro-benzeno</td>\n",
       "      <td>0.086298</td>\n",
       "      <td>0.987205</td>\n",
       "      <td>4.399932</td>\n",
       "      <td>8.388334</td>\n",
       "      <td>16.170469</td>\n",
       "      <td>0.753144</td>\n",
       "      <td>0.045020</td>\n",
       "    </tr>\n",
       "    <tr>\n",
       "      <th>3</th>\n",
       "      <td>Piridina</td>\n",
       "      <td>0.468913</td>\n",
       "      <td>2.791979</td>\n",
       "      <td>32.362331</td>\n",
       "      <td>13.054936</td>\n",
       "      <td>26.872242</td>\n",
       "      <td>0.996668</td>\n",
       "      <td>0.130281</td>\n",
       "    </tr>\n",
       "  </tbody>\n",
       "</table>\n",
       "</div>"
      ],
      "text/plain": [
       "        Composto        24        25         26         27          28  \\\n",
       "0        Tolueno  0.175588  0.133639   2.592120  13.679771  181.234976   \n",
       "1        Benzeno  0.235752  1.715046  22.736406  26.985041   19.919633   \n",
       "2  Cloro-benzeno  0.086298  0.987205   4.399932   8.388334   16.170469   \n",
       "3       Piridina  0.468913  2.791979  32.362331  13.054936   26.872242   \n",
       "\n",
       "         29        30  \n",
       "0  1.555422  0.038609  \n",
       "1  0.297064  0.122164  \n",
       "2  0.753144  0.045020  \n",
       "3  0.996668  0.130281  "
      ]
     },
     "execution_count": 57,
     "metadata": {},
     "output_type": "execute_result"
    }
   ],
   "source": [
    "#Criando o data frame\n",
    "comparacao1 = pd.DataFrame([['Tolueno',0.1755877753,0.1336391874,2.592119755,13.67977137,181.2349756,1.555421854,0.03860877884],['Benzeno',0.2357515225,1.715045813,22.73640564,26.98504132,19.91963305,0.2970638009,0.1221638534],['Cloro-benzeno',0.08629803012,0.9872047672,4.399931944,8.388333876,16.17046894,0.7531437087,0.04502039295],['Piridina',0.4689130147,2.791979361,32.36233052,13.05493596,26.87224203,0.9966677801,0.1302809346]],columns = ['Composto',24,25,26,27,28,29,30])\n",
    "comparacao1"
   ]
  },
  {
   "cell_type": "code",
   "execution_count": 58,
   "metadata": {},
   "outputs": [],
   "source": [
    "#Seleciondo o Tolueno\n",
    "compostoSelecionado = comparacao1[comparacao1[\"Composto\"]==\"Tolueno\"].iloc[0]\n",
    "colunas = [24,25,26,27,28,29,30]"
   ]
  },
  {
   "cell_type": "code",
   "execution_count": 59,
   "metadata": {},
   "outputs": [
    {
     "data": {
      "text/plain": [
       "Composto      Tolueno\n",
       "24           0.175588\n",
       "25           0.133639\n",
       "26            2.59212\n",
       "27            13.6798\n",
       "28            181.235\n",
       "29            1.55542\n",
       "30          0.0386088\n",
       "Name: 0, dtype: object"
      ]
     },
     "execution_count": 59,
     "metadata": {},
     "output_type": "execute_result"
    }
   ],
   "source": [
    "compostoSelecionado"
   ]
  },
  {
   "cell_type": "code",
   "execution_count": 23,
   "metadata": {},
   "outputs": [],
   "source": [
    "#Fazendo a normalização dos valores \n",
    "variaveisNumericas = comparacao1[colunas]"
   ]
  },
  {
   "cell_type": "code",
   "execution_count": 24,
   "metadata": {},
   "outputs": [
    {
     "data": {
      "text/html": [
       "<div>\n",
       "<style scoped>\n",
       "    .dataframe tbody tr th:only-of-type {\n",
       "        vertical-align: middle;\n",
       "    }\n",
       "\n",
       "    .dataframe tbody tr th {\n",
       "        vertical-align: top;\n",
       "    }\n",
       "\n",
       "    .dataframe thead th {\n",
       "        text-align: right;\n",
       "    }\n",
       "</style>\n",
       "<table border=\"1\" class=\"dataframe\">\n",
       "  <thead>\n",
       "    <tr style=\"text-align: right;\">\n",
       "      <th></th>\n",
       "      <th>24</th>\n",
       "      <th>25</th>\n",
       "      <th>26</th>\n",
       "      <th>27</th>\n",
       "      <th>28</th>\n",
       "      <th>29</th>\n",
       "      <th>30</th>\n",
       "    </tr>\n",
       "  </thead>\n",
       "  <tbody>\n",
       "    <tr>\n",
       "      <th>0</th>\n",
       "      <td>-0.404012</td>\n",
       "      <td>-1.129787</td>\n",
       "      <td>-0.894765</td>\n",
       "      <td>-0.231044</td>\n",
       "      <td>1.497709</td>\n",
       "      <td>1.249488</td>\n",
       "      <td>-0.928330</td>\n",
       "    </tr>\n",
       "    <tr>\n",
       "      <th>1</th>\n",
       "      <td>-0.036004</td>\n",
       "      <td>0.273349</td>\n",
       "      <td>0.499171</td>\n",
       "      <td>1.433109</td>\n",
       "      <td>-0.512543</td>\n",
       "      <td>-1.151533</td>\n",
       "      <td>0.779822</td>\n",
       "    </tr>\n",
       "    <tr>\n",
       "      <th>2</th>\n",
       "      <td>-0.950178</td>\n",
       "      <td>-0.372443</td>\n",
       "      <td>-0.769668</td>\n",
       "      <td>-0.892869</td>\n",
       "      <td>-0.559264</td>\n",
       "      <td>-0.281306</td>\n",
       "      <td>-0.797255</td>\n",
       "    </tr>\n",
       "    <tr>\n",
       "      <th>3</th>\n",
       "      <td>1.390194</td>\n",
       "      <td>1.228881</td>\n",
       "      <td>1.165262</td>\n",
       "      <td>-0.309195</td>\n",
       "      <td>-0.425902</td>\n",
       "      <td>0.183352</td>\n",
       "      <td>0.945763</td>\n",
       "    </tr>\n",
       "  </tbody>\n",
       "</table>\n",
       "</div>"
      ],
      "text/plain": [
       "         24        25        26        27        28        29        30\n",
       "0 -0.404012 -1.129787 -0.894765 -0.231044  1.497709  1.249488 -0.928330\n",
       "1 -0.036004  0.273349  0.499171  1.433109 -0.512543 -1.151533  0.779822\n",
       "2 -0.950178 -0.372443 -0.769668 -0.892869 -0.559264 -0.281306 -0.797255\n",
       "3  1.390194  1.228881  1.165262 -0.309195 -0.425902  0.183352  0.945763"
      ]
     },
     "execution_count": 24,
     "metadata": {},
     "output_type": "execute_result"
    }
   ],
   "source": [
    "compostosNormalizado = (variaveisNumericas - variaveisNumericas.mean()) / variaveisNumericas.std()\n",
    "compostosNormalizado"
   ]
  },
  {
   "cell_type": "code",
   "execution_count": 60,
   "metadata": {},
   "outputs": [],
   "source": [
    "#Calculando as distâncias euclidianas de cada composto em relação ao Tolueno\n",
    "from scipy.spatial import distance\n",
    "\n",
    "toluenoNormalizado = compostosNormalizado[comparacao1[\"Composto\"] == \"Tolueno\"]\n",
    "\n",
    "distanciasEuclidianas = compostosNormalizado.apply(lambda row: distance.euclidean(row, toluenoNormalizado), axis=1)\n",
    "\n",
    "distanceFrame = pd.DataFrame(data={\"dist\": distanciasEuclidianas,\n",
    "                                    \"idx\": distanciasEuclidianas.index})"
   ]
  },
  {
   "cell_type": "code",
   "execution_count": 61,
   "metadata": {},
   "outputs": [],
   "source": [
    "#ordenando os compostos de acordo com distância\n",
    "distanceFrame.sort_values(\"dist\", inplace=True)"
   ]
  },
  {
   "cell_type": "code",
   "execution_count": 27,
   "metadata": {},
   "outputs": [
    {
     "data": {
      "text/html": [
       "<div>\n",
       "<style scoped>\n",
       "    .dataframe tbody tr th:only-of-type {\n",
       "        vertical-align: middle;\n",
       "    }\n",
       "\n",
       "    .dataframe tbody tr th {\n",
       "        vertical-align: top;\n",
       "    }\n",
       "\n",
       "    .dataframe thead th {\n",
       "        text-align: right;\n",
       "    }\n",
       "</style>\n",
       "<table border=\"1\" class=\"dataframe\">\n",
       "  <thead>\n",
       "    <tr style=\"text-align: right;\">\n",
       "      <th></th>\n",
       "      <th>dist</th>\n",
       "      <th>idx</th>\n",
       "    </tr>\n",
       "  </thead>\n",
       "  <tbody>\n",
       "    <tr>\n",
       "      <th>0</th>\n",
       "      <td>0.000000</td>\n",
       "      <td>0</td>\n",
       "    </tr>\n",
       "    <tr>\n",
       "      <th>2</th>\n",
       "      <td>2.813747</td>\n",
       "      <td>2</td>\n",
       "    </tr>\n",
       "    <tr>\n",
       "      <th>1</th>\n",
       "      <td>4.420461</td>\n",
       "      <td>1</td>\n",
       "    </tr>\n",
       "    <tr>\n",
       "      <th>3</th>\n",
       "      <td>4.624008</td>\n",
       "      <td>3</td>\n",
       "    </tr>\n",
       "  </tbody>\n",
       "</table>\n",
       "</div>"
      ],
      "text/plain": [
       "       dist  idx\n",
       "0  0.000000    0\n",
       "2  2.813747    2\n",
       "1  4.420461    1\n",
       "3  4.624008    3"
      ]
     },
     "execution_count": 27,
     "metadata": {},
     "output_type": "execute_result"
    }
   ],
   "source": [
    "distanceFrame.head()"
   ]
  },
  {
   "cell_type": "code",
   "execution_count": 28,
   "metadata": {},
   "outputs": [
    {
     "name": "stdout",
     "output_type": "stream",
     "text": [
      "Cloro-benzeno\n"
     ]
    }
   ],
   "source": [
    "#Imprimindo o nome do composto mais próximo\n",
    "second_smallest = distanceFrame.iloc[1][\"idx\"]\n",
    "maisProximoDoTolueno = comparacao1.loc[int(second_smallest)]\n",
    "\n",
    "print(maisProximoDoTolueno[\"Composto\"])"
   ]
  },
  {
   "cell_type": "code",
   "execution_count": 62,
   "metadata": {},
   "outputs": [
    {
     "name": "stdout",
     "output_type": "stream",
     "text": [
      "Composto Tolueno  -----  Cloro-benzeno\n",
      "24 0.1755877753  -----  0.08629803012\n",
      "25 0.1336391874  -----  0.9872047672\n",
      "26 2.592119755  -----  4.399931944\n",
      "27 13.67977137  -----  8.388333876\n",
      "28 181.2349756  -----  16.17046894\n",
      "29 1.555421854  -----  0.7531437087\n",
      "30 0.03860877884  -----  0.04502039295\n"
     ]
    }
   ],
   "source": [
    "#Comparando os valores \n",
    "for key in compostoSelecionado.keys():\n",
    "    print(key, compostoSelecionado[key], ' ----- ' ,maisProximoDoTolueno[key])"
   ]
  },
  {
   "cell_type": "markdown",
   "metadata": {},
   "source": [
    "O Cloro-benzeno foi o composto que mais se aproximou do Tolueno. Apesar de seus valores de rendimentos possuírem uma distância significativa, observamos na análise gráfica que estes dois compostos possuíam um comportamento semelhante quando relacionamos a crescimento/decaimento da intensidade conforme a razão massa/carga."
   ]
  },
  {
   "cell_type": "code",
   "execution_count": 70,
   "metadata": {},
   "outputs": [
    {
     "data": {
      "image/png": "[encoded data removed]",
      "text/plain": [
       "<Figure size 1440x720 with 1 Axes>"
      ]
     },
     "metadata": {
      "needs_background": "light"
     },
     "output_type": "display_data"
    }
   ],
   "source": [
    "fig, ax = pl.subplots(figsize=(20,10))\n",
    "compostos.plot.bar(x=\"Picos\", y=['Tolueno','Cloro-benzeno'], color = ['purple','g'], ax=ax)\n",
    "\n",
    "pl.show()"
   ]
  },
  {
   "cell_type": "code",
   "execution_count": null,
   "metadata": {},
   "outputs": [],
   "source": [
    "\n"
   ]
  },
  {
   "cell_type": "code",
   "execution_count": null,
   "metadata": {},
   "outputs": [],
   "source": [
    "\n"
   ]
  },
  {
   "cell_type": "code",
   "execution_count": null,
   "metadata": {},
   "outputs": [],
   "source": [
    "\n"
   ]
  },
  {
   "cell_type": "code",
   "execution_count": null,
   "metadata": {},
   "outputs": [],
   "source": [
    "\n"
   ]
  },
  {
   "cell_type": "code",
   "execution_count": null,
   "metadata": {},
   "outputs": [],
   "source": [
    "\n"
   ]
  },
  {
   "cell_type": "code",
   "execution_count": null,
   "metadata": {},
   "outputs": [],
   "source": [
    "\n"
   ]
  },
  {
   "cell_type": "code",
   "execution_count": null,
   "metadata": {},
   "outputs": [],
   "source": [
    "\n"
   ]
  },
  {
   "cell_type": "code",
   "execution_count": null,
   "metadata": {},
   "outputs": [],
   "source": [
    "\n"
   ]
  },
  {
   "cell_type": "code",
   "execution_count": null,
   "metadata": {},
   "outputs": [],
   "source": []
  }
 ],
 "metadata": {
  "kernelspec": {
   "display_name": "Python 3",
   "language": "python",
   "name": "python3"
  },
  "language_info": {
   "codemirror_mode": {
    "name": "ipython",
    "version": 3
   },
   "file_extension": ".py",
   "mimetype": "text/x-python",
   "name": "python",
   "nbconvert_exporter": "python",
   "pygments_lexer": "ipython3",
   "version": "3.7.0"
  }
 },
 "nbformat": 4,
 "nbformat_minor": 2
}
